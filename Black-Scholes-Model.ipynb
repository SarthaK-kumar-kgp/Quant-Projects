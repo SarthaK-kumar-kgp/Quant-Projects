{
 "cells": [
  {
   "cell_type": "code",
   "execution_count": 27,
   "id": "bc9ead60",
   "metadata": {},
   "outputs": [],
   "source": [
    "import pandas as pd \n",
    "import numpy as np \n",
    "import math\n",
    "import datetime\n",
    "from nsepython import *\n",
    "import matplotlib.pyplot as plt\n",
    "from scipy.stats import norm \n"
   ]
  },
  {
   "cell_type": "code",
   "execution_count": 35,
   "id": "d44ef30d",
   "metadata": {},
   "outputs": [],
   "source": [
    "\n",
    "def BlackScholesPricingModel(Spot_Price, Strike_Price, expiry_date, risk_free_rate, volatility):\n",
    "    S = Spot_Price\n",
    "    K = Strike_Price\n",
    "    today = datetime.datetime.now()\n",
    "    day_diff = (expiry_date - today).days\n",
    "    if day_diff <= 0:\n",
    "        raise ValueError(\"Expiry date must be in the future\")\n",
    "    T = day_diff / 365\n",
    "    r = risk_free_rate\n",
    "    sigma = volatility/100\n",
    "\n",
    "    d1 = (np.log(S / K) + (r + 0.5 * sigma**2) * T) / (sigma * np.sqrt(T))\n",
    "    d2 = d1 - sigma * np.sqrt(T)\n",
    "\n",
    "    Option_price = S * norm.cdf(d1) - K * np.exp(-r * T) * norm.cdf(d2)\n",
    "    return Option_price"
   ]
  },
  {
   "cell_type": "code",
   "execution_count": 36,
   "id": "94f705e0",
   "metadata": {},
   "outputs": [
    {
     "name": "stdout",
     "output_type": "stream",
     "text": [
      "Stock Price: ₹2903\n",
      "Strike Price: ₹2900\n",
      "Expiry Date: 28-Oct-2025\n",
      "Market Price: ₹74.85\n",
      "Black Scholes Model Price: ₹69.34\n"
     ]
    }
   ],
   "source": [
    "import numpy as np\n",
    "from datetime import datetime\n",
    "from nsepython import *\n",
    "\n",
    "# --- Fetch option chain ---\n",
    "ticker = 'TCS'\n",
    "option_chain = nse_optionchain_scrapper(ticker)\n",
    "records = option_chain['records']['data']\n",
    "\n",
    "# --- Get current stock price ---\n",
    "S0 = option_chain['records']['underlyingValue']\n",
    "\n",
    "# --- Filter only calls ---\n",
    "call_options = [item for item in records if 'CE' in item]\n",
    "\n",
    "# --- Pick ATM option ---\n",
    "atm_option = min(call_options, key=lambda x: abs(x['CE']['strikePrice'] - S0))\n",
    "K = atm_option['CE']['strikePrice']\n",
    "market_price = atm_option['CE']['lastPrice']\n",
    "implied_volatility = atm_option['CE']['impliedVolatility']  # in % already\n",
    "expiry = atm_option['CE']['expiryDate']\n",
    "\n",
    "# --- Convert expiry to datetime object ---\n",
    "expiry_date = datetime.datetime.strptime(expiry, '%d-%b-%Y')\n",
    "\n",
    "# --- Compute Black-Scholes price ---\n",
    "bsp_price = BlackScholesPricingModel(Spot_Price=S0, Strike_Price=K,\n",
    "                                     expiry_date=expiry_date,\n",
    "                                     risk_free_rate=0.0625,\n",
    "                                     volatility=implied_volatility)\n",
    "\n",
    "# --- Print results ---\n",
    "print(f\"Stock Price: ₹{S0}\")\n",
    "print(f\"Strike Price: ₹{K}\")\n",
    "print(f\"Expiry Date: {expiry}\")\n",
    "print(f\"Market Price: ₹{market_price}\")\n",
    "print(f\"Black Scholes Model Price: ₹{bsp_price:.2f}\")\n"
   ]
  },
  {
   "cell_type": "code",
   "execution_count": null,
   "id": "d7813d9f",
   "metadata": {},
   "outputs": [],
   "source": []
  }
 ],
 "metadata": {
  "kernelspec": {
   "display_name": "base",
   "language": "python",
   "name": "python3"
  },
  "language_info": {
   "codemirror_mode": {
    "name": "ipython",
    "version": 3
   },
   "file_extension": ".py",
   "mimetype": "text/x-python",
   "name": "python",
   "nbconvert_exporter": "python",
   "pygments_lexer": "ipython3",
   "version": "3.13.5"
  }
 },
 "nbformat": 4,
 "nbformat_minor": 5
}
