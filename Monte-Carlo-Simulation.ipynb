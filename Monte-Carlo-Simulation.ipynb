{
 "cells": [
  {
   "cell_type": "code",
   "execution_count": 1,
   "id": "9b770a46",
   "metadata": {},
   "outputs": [],
   "source": [
    "import pandas as pd \n",
    "import numpy as np \n",
    "import math\n",
    "from datetime import datetime\n",
    "from nsepython import *\n"
   ]
  },
  {
   "cell_type": "code",
   "execution_count": 2,
   "id": "cd3cf772",
   "metadata": {},
   "outputs": [],
   "source": [
    "def _get_option_variables(ticker:str):\n",
    "    \"\"\"args: This function take ticker in string format\n",
    "       output: Option Chain Values\n",
    "    \"\"\"\n",
    "    ticker = ticker.upper()\n",
    "    ticker = 'INFY'\n",
    "\n",
    "    # Get the option chain\n",
    "    option_chain = nse_optionchain_scrapper(ticker)\n",
    "    records = option_chain['records']['data']\n",
    "\n",
    "    # Get current stock price\n",
    "    S0 = option_chain['records']['underlyingValue']\n",
    "\n",
    "    # Filter only calls (you can also choose puts)\n",
    "    call_options = [item for item in records if 'CE' in item]\n",
    "\n",
    "    # Pick the ATM (closest strike to S0)\n",
    "    atm_option = min(call_options, key=lambda x: abs(x['CE']['strikePrice'] - S0))\n",
    "    K = atm_option['CE']['strikePrice']\n",
    "    market_price = atm_option['CE']['lastPrice']\n",
    "    implied_volatility = atm_option['CE']['impliedVolatility']# decimal like 0.20\n",
    "    expiry = atm_option['CE']['expiryDate']\n",
    "\n",
    "    # Compute time to maturity in years\n",
    "    expiry_date = datetime.datetime.strptime(expiry, '%d-%b-%Y')\n",
    "    print(\"Market Price :\",market_price)\n",
    "    print(\"Implied Volatility :\",implied_volatility)\n",
    "    print(\"Expiry Date :\",expiry)\n",
    "\n",
    "\n"
   ]
  },
  {
   "cell_type": "code",
   "execution_count": null,
   "id": "c04fdbf5",
   "metadata": {},
   "outputs": [],
   "source": [
    "def Monte_Carlo_Simulator(N,option_price,strike_price,expiry_date,volatility,risk_free_rate,CE=True):\n",
    "    simualtions = 0\n",
    "    num_of_simulation = N \n",
    "    today = datetime.today()\n",
    "    day_diff = (today - strike_price).days\n",
    "    num_of_steps = day_diff\n",
    "    T = day_diff/252 ## number of trading days\n",
    "\n",
    "    simualtions = np.zeros(num_of_steps,N)\n",
    "    while simualtions<=no_of_runs:\n",
    "        Z = np.random.standard_normal\n",
    "\n",
    "\n"
   ]
  }
 ],
 "metadata": {
  "kernelspec": {
   "display_name": "base",
   "language": "python",
   "name": "python3"
  },
  "language_info": {
   "codemirror_mode": {
    "name": "ipython",
    "version": 3
   },
   "file_extension": ".py",
   "mimetype": "text/x-python",
   "name": "python",
   "nbconvert_exporter": "python",
   "pygments_lexer": "ipython3",
   "version": "3.13.5"
  }
 },
 "nbformat": 4,
 "nbformat_minor": 5
}
